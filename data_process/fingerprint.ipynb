{
 "cells": [
  {
   "cell_type": "code",
   "execution_count": 42,
   "metadata": {},
   "outputs": [],
   "source": [
    "import numpy as np\n",
    "from rdkit import Chem\n",
    "from rdkit.Chem import AllChem\n",
    "from ipypb import track\n",
    "import tables\n",
    "from multiprocessing.pool import ThreadPool as Pool\n",
    "from itertools import zip_longest\n",
    "import pandas as pd\n",
    "\n",
    "\n",
    "\n",
    "file_name = 'nature_activity.csv'\n",
    "smiles = list(pd.read_csv(file_name, index_col=0).index)\n"
   ]
  },
  {
   "cell_type": "code",
   "execution_count": 43,
   "metadata": {},
   "outputs": [
    {
     "name": "stdout",
     "output_type": "stream",
     "text": [
      "row 52 Tue Dec 15 10:22:08 2020 eta: -0.27418967193027693 sec."
     ]
    }
   ],
   "source": [
    "def GetFPFromSmiles(smiles):\n",
    "    if smiles is not None:\n",
    "        return AllChem.GetMorganFingerprintAsBitVect(AllChem.MolFromSmiles(smiles), 2, 2048)\n",
    "    \n",
    "import time\n",
    "batch_size = 50\n",
    "list_size = len(smiles)\n",
    "t0 = time.time()\n",
    "\n",
    "with tables.open_file(f'finger_print_nature_activity_ecfp4.h5', 'w') as fp_array:\n",
    "    distEcfp4 = fp_array.create_earray(fp_array.root, 'distByEcfp4', tables.IntAtom(), shape=(0, 2048), expectedrows=list_size)\n",
    "\n",
    "    args = list([iter(smiles)]* batch_size)\n",
    "    indexer = zip_longest(*args, fillvalue=None)\n",
    "\n",
    "    for i in enumerate(indexer):\n",
    "        p = Pool(50)\n",
    "        fps = list(i[1])\n",
    "        while None in fps:\n",
    "            fps.remove(None)\n",
    "\n",
    "        fp_batch = p.map(GetFPFromSmiles, fps)\n",
    "        p.close()\n",
    "        p.join()\n",
    "\n",
    "        if fp_batch is not None:\n",
    "            distEcfp4.append(np.array(fp_batch))\n",
    "            print(f'\\rrow {i[0]} {time.asctime()} eta: {(time.time() - t0) / (i[0] + 1) * (list_size/batch_size - i[0] - 1)} sec.', end='')\n",
    "        else:\n",
    "            print('cannot find FP')\n",
    "            break\n",
    "            "
   ]
  },
  {
   "cell_type": "code",
   "execution_count": 44,
   "metadata": {},
   "outputs": [],
   "source": [
    "import tables\n",
    "with tables.open_file('finger_print_nature_activity_ecfp4.h5','r') as f2:\n",
    "    f2_=f2.root.distByEcfp4[:]"
   ]
  },
  {
   "cell_type": "code",
   "execution_count": 45,
   "metadata": {},
   "outputs": [
    {
     "name": "stdout",
     "output_type": "stream",
     "text": [
      "(2607, 2048)\n"
     ]
    }
   ],
   "source": [
    "print(f2_.shape)\n",
    "pd.DataFrame(f2_).to_csv('nature_ecfp4.csv')"
   ]
  }
 ],
 "metadata": {
  "kernelspec": {
   "display_name": "Python 3",
   "language": "python",
   "name": "python3"
  },
  "language_info": {
   "codemirror_mode": {
    "name": "ipython",
    "version": 3
   },
   "file_extension": ".py",
   "mimetype": "text/x-python",
   "name": "python",
   "nbconvert_exporter": "python",
   "pygments_lexer": "ipython3",
   "version": "3.7.4"
  }
 },
 "nbformat": 4,
 "nbformat_minor": 4
}
